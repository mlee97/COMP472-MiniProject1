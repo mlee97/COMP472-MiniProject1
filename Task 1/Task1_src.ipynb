{
 "cells": [
  {
   "cell_type": "code",
   "execution_count": 24,
   "id": "4085af6f-ff5c-4c9a-8591-b2e9c03c5462",
   "metadata": {},
   "outputs": [
    {
     "data": {
      "image/png": "[encoded data removed]",
      "text/plain": [
       "<Figure size 432x288 with 1 Axes>"
      ]
     },
     "metadata": {
      "needs_background": "light"
     },
     "output_type": "display_data"
    }
   ],
   "source": [
    "import matplotlib.pyplot as plt\n",
    "import sklearn as sk\n",
    "import os\n",
    "from sklearn.datasets import load_files\n",
    "from sklearn.feature_extraction.text import CountVectorizer\n",
    "from sklearn.model_selection import train_test_split\n",
    "\n",
    "#-------------Step 2: Plot instances per class-------------#\n",
    "\n",
    "#Create a list of strings that contains the 5 classes in the BBC News Site.\n",
    "ctg = ['business', 'entertainment', 'politics', 'sport', 'tech']\n",
    "#Create an empty list to store the number of instances per class.\n",
    "numFilesPerCtg = []\n",
    "\n",
    "#Count Files in Business Directory\n",
    "business_folder_path = 'BBC/business'\n",
    "dirListing = os.listdir(business_folder_path)\n",
    "numFilesPerCtg.append(len(dirListing))\n",
    "\n",
    "#Count Files in Entertainment Directory\n",
    "entertainment_folder_path = 'BBC/entertainment'\n",
    "dirListing = os.listdir(entertainment_folder_path)\n",
    "numFilesPerCtg.append(len(dirListing))\n",
    "\n",
    "#Count Files in Politics Directory\n",
    "politics_folder_path = 'BBC/politics'\n",
    "dirListing = os.listdir(politics_folder_path)\n",
    "numFilesPerCtg.append(len(dirListing))\n",
    "\n",
    "#Count Files in Sport Directory\n",
    "sport_folder_path = 'BBC/sport'\n",
    "dirListing = os.listdir(sport_folder_path)\n",
    "numFilesPerCtg.append(len(dirListing))\n",
    "\n",
    "#Count Files in Tech Directory\n",
    "tech_folder_path = 'BBC/tech'\n",
    "dirListing = os.listdir(tech_folder_path)\n",
    "numFilesPerCtg.append(len(dirListing))\n",
    "\n",
    "#Plot bar graph of the number of instances per class.\n",
    "plt.bar(ctg, numFilesPerCtg)\n",
    "plt.xlabel('class')\n",
    "plt.ylabel('instances per class')\n",
    "\n",
    "#Save graph to a PDF file\n",
    "plt.savefig(\"BBC-distribution.pdf\")\n",
    "\n",
    "#-------------Step3: Load dataset-------------#\n",
    "dataset = load_files(\"BBC\", categories = ctg, encoding = 'latin1')\n",
    "\n",
    "vectorizer = CountVectorizer()\n",
    "cv_fit = vectorizer.fit_transform(dataset.data)\n",
    "\n",
    "#-------------Step4: Split into Training and Testing Set-------------#\n",
    "trainingSet, testingSet= train_test_split(cv_fit, train_size=0.80, test_size=0.20, random_state=None)\n"
   ]
  },
  {
   "cell_type": "code",
   "execution_count": null,
   "id": "a87071bf-fb88-4f51-934d-0905dbb779c5",
   "metadata": {},
   "outputs": [],
   "source": []
  },
  {
   "cell_type": "code",
   "execution_count": null,
   "id": "83cd4e9b-6938-42dc-a0bd-f7ef128ae8e2",
   "metadata": {},
   "outputs": [],
   "source": []
  }
 ],
 "metadata": {
  "kernelspec": {
   "display_name": "Python 3",
   "language": "python",
   "name": "python3"
  },
  "language_info": {
   "codemirror_mode": {
    "name": "ipython",
    "version": 3
   },
   "file_extension": ".py",
   "mimetype": "text/x-python",
   "name": "python",
   "nbconvert_exporter": "python",
   "pygments_lexer": "ipython3",
   "version": "3.8.8"
  }
 },
 "nbformat": 4,
 "nbformat_minor": 5
}
