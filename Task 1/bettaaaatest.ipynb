{
 "cells": [
  {
   "cell_type": "code",
   "execution_count": 1,
   "id": "1ed96bc1-6235-4ab8-b563-97cddf5cf414",
   "metadata": {},
   "outputs": [
    {
     "name": "stdout",
     "output_type": "stream",
     "text": [
      "zizi\n"
     ]
    }
   ],
   "source": [
    "import matplotlib.pyplot as plt # For plotting graphs\n",
    "import sklearn as sk            # For doing operations on the dataset\n",
    "import os                       # So we can do a listdir\n",
    "from sklearn.datasets import load_files\n",
    "from sklearn.feature_extraction.text import CountVectorizer\n",
    "from sklearn.model_selection import train_test_split\n",
    "\n",
    "\n",
    "ctg = ['business', 'entertainment', 'politics', 'sport', 'tech']\n",
    "filesPerCtg = []\n",
    "\n",
    "#Count Files in Business Directory\n",
    "business_folder_path = 'BBC/business'\n",
    "dirListing = os.listdir(business_folder_path) # List all the files in the specified path, which will be stored in a list of strings.\n",
    "filesPerCtg.append(len(dirListing))           \n",
    "\n",
    "#Count Files in Entertainment Directory\n",
    "entertainment_folder_path = 'BBC/entertainment'\n",
    "dirListing = os.listdir(entertainment_folder_path)\n",
    "filesPerCtg.append(len(dirListing))\n",
    "\n",
    "#Count Files in Politics Directory\n",
    "politics_folder_path = 'BBC/politics'\n",
    "dirListing = os.listdir(politics_folder_path)\n",
    "filesPerCtg.append(len(dirListing))\n",
    "\n",
    "#Count Files in Sport Directory\n",
    "sport_folder_path = 'BBC/sport'\n",
    "dirListing = os.listdir(sport_folder_path)\n",
    "filesPerCtg.append(len(dirListing))\n",
    "\n",
    "#Count Files in Tech Directory\n",
    "tech_folder_path = 'BBC/tech'\n",
    "dirListing = os.listdir(tech_folder_path)\n",
    "filesPerCtg.append(len(dirListing))\n",
    "\n",
    "plt.bar(ctg, filesPerCtg) # Plotting a bar graph (x-axis = ctg, y-axis = filesPerCtg)\n",
    "plt.xlabel('class')\n",
    "plt.ylabel('instances per class')\n",
    "plt.savefig(\"BBC-distribution.pdf\")\n",
    "\n",
    "print(filesPerCtg)\n",
    "#Load datasetdataset = sk.datasets.load_files(\"BBC\", categories = ctg, encoding = 'latin1')\n",
    "\n",
    "vectorizer = CountVectorizer()\n",
    "cv_fit = vectorizer.fit_transform(dataset.data)\n",
    "\n",
    "#features = vectorizer.get_feature_names()\n",
    "#wordFreq = cv_fit.toarray() \n",
    "#print(vectorizer.vocabulary_)\n",
    "\n",
    "print(\"hi\")"
   ]
  }
 ],
 "metadata": {
  "kernelspec": {
   "display_name": "Python 3",
   "language": "python",
   "name": "python3"
  },
  "language_info": {
   "codemirror_mode": {
    "name": "ipython",
    "version": 3
   },
   "file_extension": ".py",
   "mimetype": "text/x-python",
   "name": "python",
   "nbconvert_exporter": "python",
   "pygments_lexer": "ipython3",
   "version": "3.8.8"
  }
 },
 "nbformat": 4,
 "nbformat_minor": 5
}
