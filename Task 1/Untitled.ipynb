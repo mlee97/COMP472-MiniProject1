{
 "cells": [
  {
   "cell_type": "code",
   "execution_count": null,
   "id": "4085af6f-ff5c-4c9a-8591-b2e9c03c5462",
   "metadata": {},
   "outputs": [],
   "source": [
    "import numpy as np\n",
    "import matplotlib.pyplot as plt\n",
    "import sklearn as sk\n",
    "from sklearn import datasets\n",
    "from sklearn.feature_extraction.text import CountVectorizer\n",
    "\n",
    "ctg = ['business', 'entertainment', 'politics', 'sport', 'tech']\n",
    "\n",
    "dataset = sk.datasets.load_files(\"BBC\", categories = ctg, encoding = 'latin1')\n",
    "\n",
    "vectorizer = CountVectorizer()\n",
    "cv_fit = vectorizer.fit_transform(dataset.data)\n",
    "features = vectorizer.get_feature_names()\n",
    "wordFreq = cv_fit.toarray() \n",
    "\n",
    "#print(features)\n",
    "#print(vectorizer.vocabulary_)\n",
    "\n",
    "plt.bar(features, wordFreq[0])\n",
    "plt.xticks(rotation=90, fontsize=0.1)\n",
    "plt.xlabel('instance')\n",
    "plt.ylabel('frequency')\n",
    "plt.savefig(\"BBC-distribution.pdf\")\n",
    "print(\"hi\")"
   ]
  },
  {
   "cell_type": "code",
   "execution_count": null,
   "id": "a87071bf-fb88-4f51-934d-0905dbb779c5",
   "metadata": {},
   "outputs": [],
   "source": []
  }
 ],
 "metadata": {
  "kernelspec": {
   "display_name": "Python 3",
   "language": "python",
   "name": "python3"
  },
  "language_info": {
   "codemirror_mode": {
    "name": "ipython",
    "version": 3
   },
   "file_extension": ".py",
   "mimetype": "text/x-python",
   "name": "python",
   "nbconvert_exporter": "python",
   "pygments_lexer": "ipython3",
   "version": "3.8.8"
  }
 },
 "nbformat": 4,
 "nbformat_minor": 5
}
