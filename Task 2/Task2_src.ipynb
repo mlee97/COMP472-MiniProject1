{
 "cells": [
  {
   "cell_type": "code",
   "execution_count": 7,
   "id": "15c38833-f901-4192-a1cf-e68ce0464c1c",
   "metadata": {},
   "outputs": [
    {
     "data": {
      "image/png": "[encoded data removed]",
      "text/plain": [
       "<Figure size 432x288 with 1 Axes>"
      ]
     },
     "metadata": {
      "needs_background": "light"
     },
     "output_type": "display_data"
    }
   ],
   "source": [
    "import matplotlib.pyplot as plt\n",
    "import pandas as pd\n",
    "from sklearn.model_selection import train_test_split\n",
    "\n",
    "#Make a list of classes\n",
    "classes = ['DrugA', 'DrugB', 'DrugC', 'DrugX', 'DrugY']\n",
    "#Make an empty list to store the amount of instances per class\n",
    "numInstancesPerClass = []\n",
    "\n",
    "#-------------Step 2: Load the dataset-------------#\n",
    "\n",
    "#Load the dataset\n",
    "dataframe = pd.read_csv('drug200.csv')  \n",
    "\n",
    "#-------------Step 3: Plot Instances-------------#\n",
    "\n",
    "#Count Number of Instances of DrugA\n",
    "numDrugA = (dataframe['Drug']=='drugA').sum()\n",
    "numInstancesPerClass.append(numDrugA)\n",
    "\n",
    "#Count Number of Instances of DrugB\n",
    "numDrugB = (dataframe['Drug']=='drugB').sum()\n",
    "numInstancesPerClass.append(numDrugB)\n",
    "\n",
    "#Count Number of Instances of DrugC\n",
    "numDrugC = (dataframe['Drug']=='drugC').sum()\n",
    "numInstancesPerClass.append(numDrugC)\n",
    "\n",
    "#Count Number of Instances of DrugX\n",
    "numDrugX = (dataframe['Drug']=='drugX').sum()\n",
    "numInstancesPerClass.append(numDrugX)\n",
    "\n",
    "#Count Number of Instances of DrugY\n",
    "numDrugY = (dataframe['Drug']=='drugY').sum()\n",
    "numInstancesPerClass.append(numDrugY)\n",
    "\n",
    "#Plot bar graph of the number of instances per class.\n",
    "plt.bar(classes, numInstancesPerClass)\n",
    "plt.xlabel('class')\n",
    "plt.ylabel('instances per class')\n",
    "\n",
    "#Save graph to a PDF file\n",
    "plt.savefig(\"drug-distribution.pdf\")\n",
    "\n",
    "#-------------Step 4: Convert ordinal and nominal features in numerical format-------------#\n",
    "pd.Categorical(dataframe, categories=['BP', 'Cholesterol'])\n",
    "pd.get_dummies(dataframe, columns=['Sex', 'Drug'])\n",
    "\n",
    "#-------------Step 5: Split the dataset-------------#\n",
    "\n",
    "#specify attributes\n",
    "X = dataframe.drop('Drug', axis=1)\n",
    "#specify output\n",
    "y = dataframe.Drug\n",
    "#split\n",
    "X_train, X_test, y_train, y_test = train_test_split(X, y)"
   ]
  },
  {
   "cell_type": "code",
   "execution_count": null,
   "id": "717035e0-28f1-47ac-bf63-7efd0737d95c",
   "metadata": {},
   "outputs": [],
   "source": []
  }
 ],
 "metadata": {
  "kernelspec": {
   "display_name": "Python 3",
   "language": "python",
   "name": "python3"
  },
  "language_info": {
   "codemirror_mode": {
    "name": "ipython",
    "version": 3
   },
   "file_extension": ".py",
   "mimetype": "text/x-python",
   "name": "python",
   "nbconvert_exporter": "python",
   "pygments_lexer": "ipython3",
   "version": "3.8.8"
  }
 },
 "nbformat": 4,
 "nbformat_minor": 5
}
